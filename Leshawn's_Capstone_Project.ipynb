{
 "cells": [
  {
   "cell_type": "code",
   "execution_count": 4,
   "metadata": {},
   "outputs": [],
   "source": [
    "#Data Transformation\n",
    "import json\n",
    "\n",
    "def read_json(file_path):\n",
    "    with open(file_path, 'r') as file:\n",
    "        return json.load(file)\n",
    "\n",
    "# Read data from JSON files\n",
    "customers = read_json('C:/Users/Learner_9ZH3Z104/Development/Capstone/LatestDataSet/cdw_sapp_customer.json')\n",
    "branches = read_json('C:/Users/Learner_9ZH3Z104/Development/Capstone/LatestDataSet/cdw_sapp_branch.json')\n",
    "credit_cards = read_json('C:/Users/Learner_9ZH3Z104/Development/Capstone/LatestDataSet/cdw_sapp_credit.json')\n"
   ]
  },
  {
   "cell_type": "code",
   "execution_count": 5,
   "metadata": {},
   "outputs": [
    {
     "name": "stdout",
     "output_type": "stream",
     "text": [
      "    FIRST_NAME MIDDLE_NAME LAST_NAME        SSN    Credit_card_no APT_NO  \\\n",
      "0         Alec          wm    Hooper  123456100  4210653310061055    656   \n",
      "1         Etta     brendan    Holman  123453023  4210653310102868    829   \n",
      "2       Wilber    ezequiel    Dunham  123454487  4210653310116272    683   \n",
      "3      Eugenio       trina     Hardy  123459758  4210653310195948    253   \n",
      "4      Wilfred         may     Ayers  123454431  4210653310356919    301   \n",
      "..         ...         ...       ...        ...               ...    ...   \n",
      "947     Freida       jonah    Castle  123451589  4210653399559239    882   \n",
      "948       Fern        aron     Block  123457088  4210653399650358    470   \n",
      "949      Dylan       lucas    Pruitt  123453259  4210653399732638    405   \n",
      "950      Emery     susanna    Beatty  123454047  4210653399859149     15   \n",
      "951       Phil       jaime    Mullen  123454500  4210653399939240     67   \n",
      "\n",
      "           STREET_NAME     CUST_CITY CUST_STATE   CUST_COUNTRY CUST_ZIP  \\\n",
      "0    Main Street North       Natchez         MS  United States    39120   \n",
      "1        Redwood Drive  Wethersfield         CT  United States    06109   \n",
      "2     12th Street East       Huntley         IL  United States    60142   \n",
      "3    Country Club Road     NewBerlin         WI  United States    53151   \n",
      "4       Madison Street        ElPaso         TX  United States    79930   \n",
      "..                 ...           ...        ...            ...      ...   \n",
      "947  Main Street South     SiouxCity         IA  United States    51106   \n",
      "948    Glenwood Avenue   Summerville         SC  United States    29483   \n",
      "949       Country Lane        Duluth         GA  United States    30096   \n",
      "950         8th Street       Rowlett         TX  United States    75088   \n",
      "951     Charles Street    SanLorenzo         CA  United States    94580   \n",
      "\n",
      "     CUST_PHONE           CUST_EMAIL                   LAST_UPDATED  \\\n",
      "0    (123)781-8  AHooper@example.com  2018-04-21T12:49:02.000-04:00   \n",
      "1    (123)893-3  EHolman@example.com  2018-04-21T12:49:02.000-04:00   \n",
      "2    (124)301-8  WDunham@example.com  2018-04-21T12:49:02.000-04:00   \n",
      "3    (124)321-5   EHardy@example.com  2018-04-21T12:49:02.000-04:00   \n",
      "4    (124)207-4   WAyers@example.com  2018-04-21T12:49:02.000-04:00   \n",
      "..          ...                  ...                            ...   \n",
      "947  (123)834-4  FCastle@example.com  2018-04-21T12:49:02.000-04:00   \n",
      "948  (124)042-0   FBlock@example.com  2018-04-21T12:49:02.000-04:00   \n",
      "949  (123)614-9  DPruitt@example.com  2018-04-21T12:49:02.000-04:00   \n",
      "950  (123)688-6  EBeatty@example.com  2018-04-21T12:49:02.000-04:00   \n",
      "951  (123)701-7  PMullen@example.com  2018-04-21T12:49:02.000-04:00   \n",
      "\n",
      "        FULL_STREET_ADDRESS  \n",
      "0    Main Street North, 656  \n",
      "1        Redwood Drive, 829  \n",
      "2     12th Street East, 683  \n",
      "3    Country Club Road, 253  \n",
      "4       Madison Street, 301  \n",
      "..                      ...  \n",
      "947  Main Street South, 882  \n",
      "948    Glenwood Avenue, 470  \n",
      "949       Country Lane, 405  \n",
      "950          8th Street, 15  \n",
      "951      Charles Street, 67  \n",
      "\n",
      "[952 rows x 15 columns]\n"
     ]
    }
   ],
   "source": [
    "import pandas as pd\n",
    "\n",
    "def transform_customers(customers):\n",
    "    required_columns = [\n",
    "        'FIRST_NAME', 'MIDDLE_NAME', 'LAST_NAME', 'STREET_NAME', 'APT_NO', \n",
    "        'CUST_PHONE', 'SSN', 'CREDIT_CARD_NO', 'CUST_CITY', 'CUST_STATE', \n",
    "        'CUST_COUNTRY', 'CUST_ZIP', 'CUST_EMAIL', 'LAST_UPDATED'\n",
    "    ]\n",
    "    \n",
    "    customer_df = pd.DataFrame(customers)\n",
    "    \n",
    "    missing_columns = [col for col in required_columns if col not in customer_df.columns]\n",
    "    if missing_columns:\n",
    "        raise KeyError(f\"Missing required columns: {', '.join(missing_columns)}\")\n",
    "    \n",
    "    # Convert names to title case\n",
    "    customer_df['FIRST_NAME'] = customer_df['FIRST_NAME'].str.title()\n",
    "    customer_df['MIDDLE_NAME'] = customer_df['MIDDLE_NAME'].str.lower()\n",
    "    customer_df['LAST_NAME'] = customer_df['LAST_NAME'].str.title()\n",
    "    \n",
    "    # Concatenate address fields\n",
    "    customer_df['FULL_STREET_ADDRESS'] = customer_df['STREET_NAME'] + \", \" + customer_df['APT_NO']\n",
    "    \n",
    "    # Change phone number format\n",
    "    customer_df['CUST_PHONE'] = customer_df['CUST_PHONE'].astype(str).apply(lambda x: f\"({x[:3]}){x[3:6]}-{x[6:]}\")\n",
    "    \n",
    "    # Select and rename columns\n",
    "    customer_df = customer_df.rename(columns={\n",
    "        'SSN': 'SSN',\n",
    "        'FIRST_NAME': 'FIRST_NAME',\n",
    "        'MIDDLE_NAME': 'MIDDLE_NAME',\n",
    "        'LAST_NAME': 'LAST_NAME',\n",
    "        'CREDIT_CARD_NO': 'Credit_card_no',\n",
    "        'FULL_STREET_ADDRESS': 'FULL_STREET_ADDRESS',\n",
    "        'CUST_CITY': 'CUST_CITY',\n",
    "        'CUST_STATE': 'CUST_STATE',\n",
    "        'CUST_COUNTRY': 'CUST_COUNTRY',\n",
    "        'CUST_ZIP': 'CUST_ZIP',\n",
    "        'CUST_PHONE': 'CUST_PHONE',\n",
    "        'CUST_EMAIL': 'CUST_EMAIL',\n",
    "        'LAST_UPDATED': 'LAST_UPDATED'\n",
    "    })\n",
    "    \n",
    "    return customer_df\n",
    "\n",
    "# Transform customer data\n",
    "transformed_customers = transform_customers(customers)\n",
    "print(transformed_customers)"
   ]
  },
  {
   "cell_type": "code",
   "execution_count": 6,
   "metadata": {},
   "outputs": [],
   "source": [
    "def transform_branches(branches):\n",
    "    branch_df = pd.DataFrame(branches)\n",
    "    \n",
    "    # Change phone number format\n",
    "    branch_df['BRANCH_PHONE'] = branch_df['BRANCH_PHONE'].apply(lambda x: f\"({x[:3]}){x[3:6]}-{x[6:]}\")\n",
    "    \n",
    "    # Handle null values for ZIP code\n",
    "    branch_df['BRANCH_ZIP'] = branch_df['BRANCH_ZIP'].fillna('999999')\n",
    "    \n",
    "    # Select and rename columns\n",
    "    branch_df = branch_df.rename(columns={\n",
    "        'BRANCH_CODE': 'BRANCH_CODE',\n",
    "        'BRANCH_NAME': 'BRANCH_NAME',\n",
    "        'BRANCH_STREET': 'BRANCH_STREET',\n",
    "        'BRANCH_CITY': 'BRANCH_CITY',\n",
    "        'BRANCH_STATE': 'BRANCH_STATE',\n",
    "        'BRANCH_ZIP': 'BRANCH_ZIP',\n",
    "        'BRANCH_PHONE': 'BRANCH_PHONE',\n",
    "        'LAST_UPDATED': 'LAST_UPDATED'\n",
    "    })\n",
    "    \n",
    "    return branch_df\n",
    "\n",
    "# Transform branch data\n",
    "transformed_branches = transform_branches(branches)\n"
   ]
  },
  {
   "cell_type": "code",
   "execution_count": 7,
   "metadata": {},
   "outputs": [],
   "source": [
    "def transform_credit_cards(credit_cards):\n",
    "    credit_card_df = pd.DataFrame(credit_cards)\n",
    "    \n",
    "    # Convert date fields into TIMESTAMP (YYYYMMDD)\n",
    "    credit_card_df['TIMEID'] = pd.to_datetime(credit_card_df[['DAY', 'MONTH', 'YEAR']]).dt.strftime('%Y%m%d')\n",
    "    \n",
    "    # Select and rename columns\n",
    "    credit_card_df = credit_card_df.rename(columns={\n",
    "        'CREDIT_CARD_NO': 'CUST_CC_NO',\n",
    "        'CUST_SSN': 'CUST_SSN',\n",
    "        'BRANCH_CODE': 'BRANCH_CODE',\n",
    "        'TRANSACTION_TYPE': 'TRANSACTION_TYPE',\n",
    "        'TRANSACTION_VALUE': 'TRANSACTION_VALUE',\n",
    "        'TRANSACTION_ID': 'TRANSACTION_ID',\n",
    "        'TIMEID': 'TIMEID'\n",
    "    })\n",
    "    \n",
    "    return credit_card_df\n",
    "\n",
    "# Transform credit card data\n",
    "transformed_credit_cards = transform_credit_cards(credit_cards)\n"
   ]
  },
  {
   "cell_type": "code",
   "execution_count": 8,
   "metadata": {},
   "outputs": [],
   "source": [
    "def transform_credit_cards(credit_cards):\n",
    "    credit_card_df = pd.DataFrame(credit_cards)\n",
    "    \n",
    "    # Convert date fields into TIMESTAMP (YYYYMMDD)\n",
    "    credit_card_df['TIMEID'] = pd.to_datetime(credit_card_df[['DAY', 'MONTH', 'YEAR']]).dt.strftime('%Y%m%d')\n",
    "    \n",
    "    # Select and rename columns\n",
    "    credit_card_df = credit_card_df.rename(columns={\n",
    "        'CREDIT_CARD_NO': 'CUST_CC_NO',\n",
    "        'CUST_SSN': 'CUST_SSN',\n",
    "        'BRANCH_CODE': 'BRANCH_CODE',\n",
    "        'TRANSACTION_TYPE': 'TRANSACTION_TYPE',\n",
    "        'TRANSACTION_VALUE': 'TRANSACTION_VALUE',\n",
    "        'TRANSACTION_ID': 'TRANSACTION_ID',\n",
    "        'TIMEID': 'TIMEID'\n",
    "    })\n",
    "    \n",
    "    return credit_card_df\n",
    "\n",
    "# Transform credit card data\n",
    "transformed_credit_cards = transform_credit_cards(credit_cards)\n"
   ]
  },
  {
   "cell_type": "code",
   "execution_count": 9,
   "metadata": {},
   "outputs": [],
   "source": [
    "import json\n",
    "import os\n",
    "import pandas as pd\n",
    "import sqlite3\n",
    "\n",
    "def read_json(file_path):\n",
    "    if not os.path.exists(file_path):\n",
    "        raise FileNotFoundError(f\"The file {file_path} does not exist.\")\n",
    "    with open(file_path, 'r') as file:\n",
    "        return json.load(file)\n",
    "\n",
    "# Update these paths to the correct location of your JSON files\n",
    "customer_file_path = 'C:/Users/Learner_9ZH3Z104/Development/Capstone/LatestDataSet/cdw_sapp_customer.json'\n",
    "branch_file_path = 'C:/Users/Learner_9ZH3Z104/Development/Capstone/LatestDataSet/cdw_sapp_branch.json'\n",
    "credit_card_file_path = 'C:/Users/Learner_9ZH3Z104/Development/Capstone/LatestDataSet/cdw_sapp_credit.json'\n",
    "\n",
    "# Read data from JSON files\n",
    "customers = read_json(customer_file_path)\n",
    "branches = read_json(branch_file_path)\n",
    "credit_cards = read_json(credit_card_file_path)\n",
    "\n",
    "# Transformation Functions\n",
    "def transform_customers(customers):\n",
    "    customer_df = pd.DataFrame(customers)\n",
    "    \n",
    "    # Convert names to title case\n",
    "    customer_df['FIRST_NAME'] = customer_df['FIRST_NAME'].str.title()\n",
    "    customer_df['MIDDLE_NAME'] = customer_df['MIDDLE_NAME'].str.lower()\n",
    "    customer_df['LAST_NAME'] = customer_df['LAST_NAME'].str.title()\n",
    "    \n",
    "    # Concatenate address fields\n",
    "    customer_df['FULL_STREET_ADDRESS'] = customer_df['STREET_NAME'] + \", \" + customer_df['APT_NO']\n",
    "    \n",
    "    # Change phone number format\n",
    "    def format_phone_number(x):\n",
    "        if pd.isnull(x) or not isinstance(x, str) or len(x) != 10:\n",
    "            return x\n",
    "        return f\"({x[:3]}){x[3:6]}-{x[6:]}\"\n",
    "    \n",
    "    customer_df['CUST_PHONE'] = customer_df['CUST_PHONE'].astype(str).apply(format_phone_number)\n",
    "    \n",
    "    # Select and rename columns\n",
    "    customer_df = customer_df.rename(columns={\n",
    "        'SSN': 'SSN',\n",
    "        'FIRST_NAME': 'FIRST_NAME',\n",
    "        'MIDDLE_NAME': 'MIDDLE_NAME',\n",
    "        'LAST_NAME': 'LAST_NAME',\n",
    "        'CREDIT_CARD_NO': 'Credit_card_no',\n",
    "        'FULL_STREET_ADDRESS': 'FULL_STREET_ADDRESS',\n",
    "        'CUST_CITY': 'CUST_CITY',\n",
    "        'CUST_STATE': 'CUST_STATE',\n",
    "        'CUST_COUNTRY': 'CUST_COUNTRY',\n",
    "        'CUST_ZIP': 'CUST_ZIP',\n",
    "        'CUST_PHONE': 'CUST_PHONE',\n",
    "        'CUST_EMAIL': 'CUST_EMAIL',\n",
    "        'LAST_UPDATED': 'LAST_UPDATED'\n",
    "    })\n",
    "    \n",
    "    # Remove duplicates\n",
    "    customer_df = customer_df.drop_duplicates(subset=['SSN', 'Credit_card_no'])\n",
    "    return customer_df\n",
    "\n",
    "def transform_branches(branches):\n",
    "    branch_df = pd.DataFrame(branches)\n",
    "    \n",
    "    # Change phone number format\n",
    "    def format_phone_number(x):\n",
    "        if pd.isnull(x) or not isinstance(x, str) or len(x) != 10:\n",
    "            return x\n",
    "        return f\"({x[:3]}){x[3:6]}-{x[6:]}\"\n",
    "    \n",
    "    branch_df['BRANCH_PHONE'] = branch_df['BRANCH_PHONE'].astype(str).apply(format_phone_number)\n",
    "    \n",
    "    # Handle null values for ZIP code\n",
    "    branch_df['BRANCH_ZIP'] = branch_df['BRANCH_ZIP'].fillna('999999')\n",
    "    \n",
    "    # Select and rename columns\n",
    "    branch_df = branch_df.rename(columns={\n",
    "        'BRANCH_CODE': 'BRANCH_CODE',\n",
    "        'BRANCH_NAME': 'BRANCH_NAME',\n",
    "        'BRANCH_STREET': 'BRANCH_STREET',\n",
    "        'BRANCH_CITY': 'BRANCH_CITY',\n",
    "        'BRANCH_STATE': 'BRANCH_STATE',\n",
    "        'BRANCH_ZIP': 'BRANCH_ZIP',\n",
    "        'BRANCH_PHONE': 'BRANCH_PHONE',\n",
    "        'LAST_UPDATED': 'LAST_UPDATED'\n",
    "    })\n",
    "    \n",
    "    # Remove duplicates\n",
    "    branch_df = branch_df.drop_duplicates(subset=['BRANCH_CODE'])\n",
    "    return branch_df\n",
    "\n",
    "def transform_credit_cards(credit_cards):\n",
    "    credit_card_df = pd.DataFrame(credit_cards)\n",
    "    \n",
    "    # Convert date fields into TIMESTAMP (YYYYMMDD)\n",
    "    credit_card_df['TIMEID'] = pd.to_datetime(credit_card_df[['DAY', 'MONTH', 'YEAR']]).dt.strftime('%Y%m%d')\n",
    "    \n",
    "    # Select and rename columns\n",
    "    credit_card_df = credit_card_df.rename(columns={\n",
    "        'CREDIT_CARD_NO': 'CUST_CC_NO',\n",
    "        'CUST_SSN': 'CUST_SSN',\n",
    "        'BRANCH_CODE': 'BRANCH_CODE',\n",
    "        'TRANSACTION_TYPE': 'TRANSACTION_TYPE',\n",
    "        'TRANSACTION_VALUE': 'TRANSACTION_VALUE',\n",
    "        'TRANSACTION_ID': 'TRANSACTION_ID',\n",
    "        'TIMEID': 'TIMEID'\n",
    "    })\n",
    "    \n",
    "    # Remove duplicates\n",
    "    credit_card_df = credit_card_df.drop_duplicates(subset=['TRANSACTION_ID'])\n",
    "    return credit_card_df\n",
    "\n",
    "# Transform data\n",
    "transformed_customers = transform_customers(customers)\n",
    "transformed_branches = transform_branches(branches)\n",
    "transformed_credit_cards = transform_credit_cards(credit_cards)\n",
    "\n",
    "# Load data into the database\n",
    "def load_to_database(df, table_name):\n",
    "    conn = sqlite3.connect('creditcard_capstone.db')\n",
    "    df.to_sql(table_name, conn, if_exists='replace', index=False)\n",
    "    conn.close()\n",
    "\n",
    "load_to_database(transformed_customers, 'C:/Users/Learner_9ZH3Z104/Development/Capstone/LatestDataSet/cdw_sapp_customer.json')\n",
    "load_to_database(transformed_branches, 'C:/Users/Learner_9ZH3Z104/Development/Capstone/LatestDataSet/cdw_sapp_branch.json')\n",
    "load_to_database(transformed_credit_cards, 'C:/Users/Learner_9ZH3Z104/Development/Capstone/LatestDataSet/cdw_sapp_credit.json')\n"
   ]
  },
  {
   "cell_type": "code",
   "execution_count": 3,
   "metadata": {},
   "outputs": [
    {
     "name": "stdout",
     "output_type": "stream",
     "text": [
      "Existing database 'creditcard_capstone' dropped successfully.\n",
      "New database 'creditcard_capstone' created successfully.\n",
      "Tables have been created successfully.\n",
      "Data has been inserted successfully.\n",
      "MySQL connection is closed.\n"
     ]
    }
   ],
   "source": [
    "#Require 1.1 Data Extraction and Transformation with Python and PySpark \n",
    "import json\n",
    "\n",
    "# Input this Function to read JSON file:\n",
    "def read_json(file_path):\n",
    "    with open(file_path, 'r') as file:\n",
    "        data = json.load(file)\n",
    "    return data\n",
    "\n",
    "file = (\"C:/Users/Learner_9ZH3Z104/Downloads/Mapping Document.xlsx+\")\n",
    "\n",
    "# Reading JSON files\n",
    "branches = read_json('C:/Users/Learner_9ZH3Z104/Development/Capstone/LatestDataSet/cdw_sapp_branch.json')\n",
    "credit_cards = read_json('C:/Users/Learner_9ZH3Z104/Development/Capstone/LatestDataSet/cdw_sapp_credit.json')\n",
    "customers = read_json('C:/Users/Learner_9ZH3Z104/Development/Capstone/LatestDataSet/cdw_sapp_credit.json')\n",
    "\n",
    "#1.2 Data loading into Database \n",
    "import mysql.connector\n",
    "from mysql.connector import Error\n",
    "import json\n",
    "\n",
    "# Paths to your JSON files\n",
    "branch_json_file_path = 'C:/Users/Learner_9ZH3Z104/Development/Capstone/LatestDataSet/cdw_sapp_branch.json'\n",
    "credit_json_file_path = 'C:/Users/Learner_9ZH3Z104/Development/Capstone/LatestDataSet/cdw_sapp_credit.json'\n",
    "customer_json_file_path = 'C:/Users/Learner_9ZH3Z104/Development/Capstone/LatestDataSet/cdw_sapp_customer.json'\n",
    "\n",
    "try:\n",
    "    # Load data from JSON files\n",
    "    with open(branch_json_file_path, 'r') as branch_file:\n",
    "        branches_data = json.load(branch_file)\n",
    "    \n",
    "    with open(credit_json_file_path, 'r') as credit_file:\n",
    "        credit_cards_data = json.load(credit_file)\n",
    "    \n",
    "    with open(customer_json_file_path, 'r') as customer_file:\n",
    "        customers_data = json.load(customer_file)\n",
    "\n",
    "    connection = mysql.connector.connect(\n",
    "        host='localhost',\n",
    "        user='root',\n",
    "        password='Password',  # Replace with your MySQL password\n",
    "        port='3306'  # Port should be an integer\n",
    "    )\n",
    "\n",
    "    if connection.is_connected():\n",
    "        cursor = connection.cursor()\n",
    "\n",
    "        # Drop the existing 'creditcard_capstone' database if it exists\n",
    "        cursor.execute(\"DROP DATABASE IF EXISTS creditcard_capstone\")\n",
    "        print(\"Existing database 'creditcard_capstone' dropped successfully.\")\n",
    "\n",
    "        # Create the new 'creditcard_capstone' database\n",
    "        cursor.execute(\"CREATE DATABASE creditcard_capstone\")\n",
    "        print(\"New database 'creditcard_capstone' created successfully.\")\n",
    "\n",
    "        # Switch to the new database\n",
    "        cursor.execute(\"USE creditcard_capstone\")\n",
    "\n",
    "        # Create tables for the Credit Card System\n",
    "        create_branch_table_query = \"\"\"\n",
    "        CREATE TABLE IF NOT EXISTS CDW_SAPP_BRANCH (\n",
    "            branch_code INT PRIMARY KEY,\n",
    "            branch_name VARCHAR(255),\n",
    "            branch_street VARCHAR(255),\n",
    "            branch_city VARCHAR(255),\n",
    "            branch_state VARCHAR(255),\n",
    "            branch_zip VARCHAR(20),\n",
    "            branch_phone VARCHAR(20),\n",
    "            last_updated DATE\n",
    "        )\n",
    "        \"\"\"\n",
    "        cursor.execute(create_branch_table_query)\n",
    "\n",
    "        create_credit_card_table_query = \"\"\"\n",
    "        CREATE TABLE IF NOT EXISTS CDW_SAPP_CREDIT_CARD (\n",
    "            transaction_id INT PRIMARY KEY,\n",
    "            day INT,\n",
    "            month INT,\n",
    "            year INT,\n",
    "            credit_card_no VARCHAR(255),\n",
    "            cust_ssn INT,\n",
    "            branch_code INT,\n",
    "            transaction_type VARCHAR(255),\n",
    "            transaction_value DECIMAL(10, 2)\n",
    "        )\n",
    "        \"\"\"\n",
    "        cursor.execute(create_credit_card_table_query)\n",
    "\n",
    "        create_customer_table_query = \"\"\"\n",
    "        CREATE TABLE IF NOT EXISTS CDW_SAPP_CUSTOMER (\n",
    "            ssn INT PRIMARY KEY,\n",
    "            first_name VARCHAR(255),\n",
    "            middle_name VARCHAR(255),\n",
    "            last_name VARCHAR(255),\n",
    "            credit_card_no VARCHAR(255),\n",
    "            apt_no VARCHAR(10),\n",
    "            street_name VARCHAR(255),\n",
    "            cust_city VARCHAR(255),\n",
    "            cust_state VARCHAR(255),\n",
    "            cust_country VARCHAR(255),\n",
    "            cust_zip VARCHAR(20),\n",
    "            cust_phone VARCHAR(20),\n",
    "            cust_email VARCHAR(255),\n",
    "            last_updated DATETIME\n",
    "        )\n",
    "        \"\"\"\n",
    "        cursor.execute(create_customer_table_query)\n",
    "\n",
    "        print(\"Tables have been created successfully.\")\n",
    "\n",
    "        # Insert data into CDW_SAPP_BRANCH table from JSON file\n",
    "        for row in branches_data:\n",
    "            cursor.execute(\"\"\"\n",
    "                INSERT INTO CDW_SAPP_BRANCH (\n",
    "                    branch_code, branch_name, branch_street, branch_city,\n",
    "                    branch_state, branch_zip, branch_phone, last_updated\n",
    "                ) VALUES (%s, %s, %s, %s, %s, %s, %s, %s)\n",
    "            \"\"\", (\n",
    "                row['BRANCH_CODE'], row['BRANCH_NAME'], row['BRANCH_STREET'],\n",
    "                row['BRANCH_CITY'], row['BRANCH_STATE'], row['BRANCH_ZIP'],\n",
    "                row['BRANCH_PHONE'], row['LAST_UPDATED']\n",
    "            ))\n",
    "        \n",
    "        # Insert data into CDW_SAPP_CUSTOMER table from JSON file\n",
    "        for row in customers_data:\n",
    "            cursor.execute(\"\"\"\n",
    "                INSERT INTO CDW_SAPP_CUSTOMER (\n",
    "                    ssn, first_name, middle_name, last_name, credit_card_no, apt_no, \n",
    "                    street_name, cust_city, cust_state, cust_country, cust_zip, \n",
    "                    cust_phone, cust_email, last_updated\n",
    "                ) VALUES (%s, %s, %s, %s, %s, %s, %s, %s, %s, %s, %s, %s, %s, %s)\n",
    "            \"\"\", (\n",
    "                row['SSN'], row['FIRST_NAME'], row['MIDDLE_NAME'], row['LAST_NAME'], \n",
    "                row['CREDIT_CARD_NO'], row['APT_NO'], row['STREET_NAME'], row['CUST_CITY'], \n",
    "                row['CUST_STATE'], row['CUST_COUNTRY'], row['CUST_ZIP'], row['CUST_PHONE'], \n",
    "                row['CUST_EMAIL'], row['LAST_UPDATED']\n",
    "            ))\n",
    "        \n",
    "        # Insert data into CDW_SAPP_CREDIT_CARD table from JSON file\n",
    "        for row in credit_cards_data:\n",
    "            cursor.execute(\"\"\"\n",
    "                INSERT INTO CDW_SAPP_CREDIT_CARD (\n",
    "                    transaction_id, day, month, year, credit_card_no, \n",
    "                    cust_ssn, branch_code, transaction_type, transaction_value\n",
    "                ) VALUES (%s, %s, %s, %s, %s, %s, %s, %s, %s)\n",
    "            \"\"\", (\n",
    "                row['TRANSACTION_ID'], row['DAY'], row['MONTH'], row['YEAR'], \n",
    "                row['CREDIT_CARD_NO'], row['CUST_SSN'], row['BRANCH_CODE'], \n",
    "                row['TRANSACTION_TYPE'], row['TRANSACTION_VALUE']\n",
    "            ))\n",
    "\n",
    "        connection.commit()\n",
    "        print(\"Data has been inserted successfully.\")\n",
    "\n",
    "    else:\n",
    "        print(\"Connection failed.\")\n",
    "\n",
    "except Error as e:\n",
    "    print(f\"Error: {e}\")\n",
    "except json.JSONDecodeError as je:\n",
    "    print(f\"Error reading JSON file: {je}\")\n",
    "except FileNotFoundError as fe:\n",
    "    print(f\"JSON file not found: {fe}\")\n",
    "\n",
    "finally:\n",
    "    if connection.is_connected():\n",
    "        cursor.close()\n",
    "        connection.close()\n",
    "        print(\"MySQL connection is closed.\")\n",
    "\n"
   ]
  },
  {
   "cell_type": "code",
   "execution_count": 30,
   "metadata": {},
   "outputs": [],
   "source": [
    "#1.1\n",
    "from pyspark.sql import SparkSession\n",
    "\n",
    "# Initialize Spark session\n",
    "spark = SparkSession.builder.appName('CreditCardETL').getOrCreate()\n",
    "\n",
    "# Load JSON data into Spark DataFrames\n",
    "branches_df = spark.read.json('C:/Users/Learner_9ZH3Z104/Development/Capstone/LatestDataSet/cdw_sapp_branch.json')\n",
    "credit_cards_df = spark.read.json('C:/Users/Learner_9ZH3Z104/Development/Capstone/LatestDataSet/cdw_sapp_credit.json')\n",
    "customers_df = spark.read.json('C:/Users/Learner_9ZH3Z104/Development/Capstone/LatestDataSet/cdw_sapp_credit.json')\n",
    "\n"
   ]
  },
  {
   "cell_type": "markdown",
   "metadata": {},
   "source": []
  },
  {
   "cell_type": "code",
   "execution_count": 4,
   "metadata": {},
   "outputs": [],
   "source": [
    "import sqlite3\n",
    "import pandas as pd\n",
    "\n",
    "# Establishing connection to the database\n",
    "conn = sqlite3.connect('creditcard_capstone.db')\n",
    "cursor = conn.cursor()\n",
    "\n",
    "ReadMe - GitHub\n",
    "requirements.txt - How to make requirements.txtLinks to an external site.\n",
    "secrets.txt/DOTENV/.env file for password and username\n",
    "secrets/dotenv file for username and password\n",
    "Github repo with readme"
   ]
  },
  {
   "cell_type": "code",
   "execution_count": 1,
   "metadata": {},
   "outputs": [
    {
     "ename": "DatabaseError",
     "evalue": "Execution failed on sql '\n    SELECT TRANSACTION_TYPE, \n    COUNT(*) AS count\n    FROM CDW_SAPP_CREDIT_CARD\n    GROUP BY TRANSACTION_TYPE\n    ORDER BY count DESC\n    ': no such table: CDW_SAPP_CREDIT_CARD",
     "output_type": "error",
     "traceback": [
      "\u001b[1;31m---------------------------------------------------------------------------\u001b[0m",
      "\u001b[1;31mOperationalError\u001b[0m                          Traceback (most recent call last)",
      "File \u001b[1;32mc:\\Users\\Learner_9ZH3Z104\\AppData\\Local\\Programs\\Python\\Python311\\Lib\\site-packages\\pandas\\io\\sql.py:2674\u001b[0m, in \u001b[0;36mSQLiteDatabase.execute\u001b[1;34m(self, sql, params)\u001b[0m\n\u001b[0;32m   2673\u001b[0m \u001b[38;5;28;01mtry\u001b[39;00m:\n\u001b[1;32m-> 2674\u001b[0m     \u001b[43mcur\u001b[49m\u001b[38;5;241;43m.\u001b[39;49m\u001b[43mexecute\u001b[49m\u001b[43m(\u001b[49m\u001b[43msql\u001b[49m\u001b[43m,\u001b[49m\u001b[43m \u001b[49m\u001b[38;5;241;43m*\u001b[39;49m\u001b[43margs\u001b[49m\u001b[43m)\u001b[49m\n\u001b[0;32m   2675\u001b[0m     \u001b[38;5;28;01mreturn\u001b[39;00m cur\n",
      "\u001b[1;31mOperationalError\u001b[0m: no such table: CDW_SAPP_CREDIT_CARD",
      "\nThe above exception was the direct cause of the following exception:\n",
      "\u001b[1;31mDatabaseError\u001b[0m                             Traceback (most recent call last)",
      "Cell \u001b[1;32mIn[1], line 35\u001b[0m\n\u001b[0;32m     32\u001b[0m     plot_highest_transaction_type_count()\n\u001b[0;32m     34\u001b[0m \u001b[38;5;28;01mif\u001b[39;00m \u001b[38;5;18m__name__\u001b[39m \u001b[38;5;241m==\u001b[39m \u001b[38;5;124m\"\u001b[39m\u001b[38;5;124m__main__\u001b[39m\u001b[38;5;124m\"\u001b[39m:\n\u001b[1;32m---> 35\u001b[0m     \u001b[43mmain\u001b[49m\u001b[43m(\u001b[49m\u001b[43m)\u001b[49m\n",
      "Cell \u001b[1;32mIn[1], line 32\u001b[0m, in \u001b[0;36mmain\u001b[1;34m()\u001b[0m\n\u001b[0;32m     31\u001b[0m \u001b[38;5;28;01mdef\u001b[39;00m \u001b[38;5;21mmain\u001b[39m():\n\u001b[1;32m---> 32\u001b[0m     \u001b[43mplot_highest_transaction_type_count\u001b[49m\u001b[43m(\u001b[49m\u001b[43m)\u001b[49m\n",
      "Cell \u001b[1;32mIn[1], line 21\u001b[0m, in \u001b[0;36mplot_highest_transaction_type_count\u001b[1;34m()\u001b[0m\n\u001b[0;32m     13\u001b[0m \u001b[38;5;28;01mdef\u001b[39;00m \u001b[38;5;21mplot_highest_transaction_type_count\u001b[39m():\n\u001b[0;32m     14\u001b[0m     query \u001b[38;5;241m=\u001b[39m \u001b[38;5;124m\"\"\"\u001b[39m\n\u001b[0;32m     15\u001b[0m \u001b[38;5;124m    SELECT TRANSACTION_TYPE, \u001b[39m\n\u001b[0;32m     16\u001b[0m \u001b[38;5;124m    COUNT(*) AS count\u001b[39m\n\u001b[1;32m   (...)\u001b[0m\n\u001b[0;32m     19\u001b[0m \u001b[38;5;124m    ORDER BY count DESC\u001b[39m\n\u001b[0;32m     20\u001b[0m \u001b[38;5;124m    \u001b[39m\u001b[38;5;124m\"\"\"\u001b[39m\n\u001b[1;32m---> 21\u001b[0m     data \u001b[38;5;241m=\u001b[39m \u001b[43mfetch_data\u001b[49m\u001b[43m(\u001b[49m\u001b[43mquery\u001b[49m\u001b[43m)\u001b[49m\n\u001b[0;32m     22\u001b[0m     fig \u001b[38;5;241m=\u001b[39m px\u001b[38;5;241m.\u001b[39mbar(data, x\u001b[38;5;241m=\u001b[39m\u001b[38;5;124m'\u001b[39m\u001b[38;5;124mTRANSACTION_TYPE\u001b[39m\u001b[38;5;124m'\u001b[39m, y\u001b[38;5;241m=\u001b[39m\u001b[38;5;124m'\u001b[39m\u001b[38;5;124mcount\u001b[39m\u001b[38;5;124m'\u001b[39m, title\u001b[38;5;241m=\u001b[39m\u001b[38;5;124m'\u001b[39m\u001b[38;5;124mTransaction Types with Highest Counts\u001b[39m\u001b[38;5;124m'\u001b[39m)\n\u001b[0;32m     24\u001b[0m     fig\u001b[38;5;241m.\u001b[39mupdate_layout(\n\u001b[0;32m     25\u001b[0m         xaxis_title\u001b[38;5;241m=\u001b[39m\u001b[38;5;124m'\u001b[39m\u001b[38;5;124mTransaction Type\u001b[39m\u001b[38;5;124m'\u001b[39m,\n\u001b[0;32m     26\u001b[0m         yaxis_title\u001b[38;5;241m=\u001b[39m\u001b[38;5;124m'\u001b[39m\u001b[38;5;124mCount\u001b[39m\u001b[38;5;124m'\u001b[39m,\n\u001b[0;32m     27\u001b[0m         xaxis_tickangle\u001b[38;5;241m=\u001b[39m \u001b[38;5;241m0\u001b[39m\n\u001b[0;32m     28\u001b[0m )\n",
      "Cell \u001b[1;32mIn[1], line 9\u001b[0m, in \u001b[0;36mfetch_data\u001b[1;34m(query)\u001b[0m\n\u001b[0;32m      7\u001b[0m \u001b[38;5;28;01mdef\u001b[39;00m \u001b[38;5;21mfetch_data\u001b[39m(query):\n\u001b[0;32m      8\u001b[0m     connection \u001b[38;5;241m=\u001b[39m sqlite3\u001b[38;5;241m.\u001b[39mconnect(\u001b[38;5;124m'\u001b[39m\u001b[38;5;124mcreditcard_capstone.db\u001b[39m\u001b[38;5;124m'\u001b[39m)\n\u001b[1;32m----> 9\u001b[0m     data \u001b[38;5;241m=\u001b[39m \u001b[43mpd\u001b[49m\u001b[38;5;241;43m.\u001b[39;49m\u001b[43mread_sql_query\u001b[49m\u001b[43m(\u001b[49m\u001b[43mquery\u001b[49m\u001b[43m,\u001b[49m\u001b[43m \u001b[49m\u001b[43mconnection\u001b[49m\u001b[43m)\u001b[49m\n\u001b[0;32m     10\u001b[0m     connection\u001b[38;5;241m.\u001b[39mclose()\n\u001b[0;32m     11\u001b[0m     \u001b[38;5;28;01mreturn\u001b[39;00m data\n",
      "File \u001b[1;32mc:\\Users\\Learner_9ZH3Z104\\AppData\\Local\\Programs\\Python\\Python311\\Lib\\site-packages\\pandas\\io\\sql.py:526\u001b[0m, in \u001b[0;36mread_sql_query\u001b[1;34m(sql, con, index_col, coerce_float, params, parse_dates, chunksize, dtype, dtype_backend)\u001b[0m\n\u001b[0;32m    523\u001b[0m \u001b[38;5;28;01massert\u001b[39;00m dtype_backend \u001b[38;5;129;01mis\u001b[39;00m \u001b[38;5;129;01mnot\u001b[39;00m lib\u001b[38;5;241m.\u001b[39mno_default\n\u001b[0;32m    525\u001b[0m \u001b[38;5;28;01mwith\u001b[39;00m pandasSQL_builder(con) \u001b[38;5;28;01mas\u001b[39;00m pandas_sql:\n\u001b[1;32m--> 526\u001b[0m     \u001b[38;5;28;01mreturn\u001b[39;00m \u001b[43mpandas_sql\u001b[49m\u001b[38;5;241;43m.\u001b[39;49m\u001b[43mread_query\u001b[49m\u001b[43m(\u001b[49m\n\u001b[0;32m    527\u001b[0m \u001b[43m        \u001b[49m\u001b[43msql\u001b[49m\u001b[43m,\u001b[49m\n\u001b[0;32m    528\u001b[0m \u001b[43m        \u001b[49m\u001b[43mindex_col\u001b[49m\u001b[38;5;241;43m=\u001b[39;49m\u001b[43mindex_col\u001b[49m\u001b[43m,\u001b[49m\n\u001b[0;32m    529\u001b[0m \u001b[43m        \u001b[49m\u001b[43mparams\u001b[49m\u001b[38;5;241;43m=\u001b[39;49m\u001b[43mparams\u001b[49m\u001b[43m,\u001b[49m\n\u001b[0;32m    530\u001b[0m \u001b[43m        \u001b[49m\u001b[43mcoerce_float\u001b[49m\u001b[38;5;241;43m=\u001b[39;49m\u001b[43mcoerce_float\u001b[49m\u001b[43m,\u001b[49m\n\u001b[0;32m    531\u001b[0m \u001b[43m        \u001b[49m\u001b[43mparse_dates\u001b[49m\u001b[38;5;241;43m=\u001b[39;49m\u001b[43mparse_dates\u001b[49m\u001b[43m,\u001b[49m\n\u001b[0;32m    532\u001b[0m \u001b[43m        \u001b[49m\u001b[43mchunksize\u001b[49m\u001b[38;5;241;43m=\u001b[39;49m\u001b[43mchunksize\u001b[49m\u001b[43m,\u001b[49m\n\u001b[0;32m    533\u001b[0m \u001b[43m        \u001b[49m\u001b[43mdtype\u001b[49m\u001b[38;5;241;43m=\u001b[39;49m\u001b[43mdtype\u001b[49m\u001b[43m,\u001b[49m\n\u001b[0;32m    534\u001b[0m \u001b[43m        \u001b[49m\u001b[43mdtype_backend\u001b[49m\u001b[38;5;241;43m=\u001b[39;49m\u001b[43mdtype_backend\u001b[49m\u001b[43m,\u001b[49m\n\u001b[0;32m    535\u001b[0m \u001b[43m    \u001b[49m\u001b[43m)\u001b[49m\n",
      "File \u001b[1;32mc:\\Users\\Learner_9ZH3Z104\\AppData\\Local\\Programs\\Python\\Python311\\Lib\\site-packages\\pandas\\io\\sql.py:2738\u001b[0m, in \u001b[0;36mSQLiteDatabase.read_query\u001b[1;34m(self, sql, index_col, coerce_float, parse_dates, params, chunksize, dtype, dtype_backend)\u001b[0m\n\u001b[0;32m   2727\u001b[0m \u001b[38;5;28;01mdef\u001b[39;00m \u001b[38;5;21mread_query\u001b[39m(\n\u001b[0;32m   2728\u001b[0m     \u001b[38;5;28mself\u001b[39m,\n\u001b[0;32m   2729\u001b[0m     sql,\n\u001b[1;32m   (...)\u001b[0m\n\u001b[0;32m   2736\u001b[0m     dtype_backend: DtypeBackend \u001b[38;5;241m|\u001b[39m Literal[\u001b[38;5;124m\"\u001b[39m\u001b[38;5;124mnumpy\u001b[39m\u001b[38;5;124m\"\u001b[39m] \u001b[38;5;241m=\u001b[39m \u001b[38;5;124m\"\u001b[39m\u001b[38;5;124mnumpy\u001b[39m\u001b[38;5;124m\"\u001b[39m,\n\u001b[0;32m   2737\u001b[0m ) \u001b[38;5;241m-\u001b[39m\u001b[38;5;241m>\u001b[39m DataFrame \u001b[38;5;241m|\u001b[39m Iterator[DataFrame]:\n\u001b[1;32m-> 2738\u001b[0m     cursor \u001b[38;5;241m=\u001b[39m \u001b[38;5;28;43mself\u001b[39;49m\u001b[38;5;241;43m.\u001b[39;49m\u001b[43mexecute\u001b[49m\u001b[43m(\u001b[49m\u001b[43msql\u001b[49m\u001b[43m,\u001b[49m\u001b[43m \u001b[49m\u001b[43mparams\u001b[49m\u001b[43m)\u001b[49m\n\u001b[0;32m   2739\u001b[0m     columns \u001b[38;5;241m=\u001b[39m [col_desc[\u001b[38;5;241m0\u001b[39m] \u001b[38;5;28;01mfor\u001b[39;00m col_desc \u001b[38;5;129;01min\u001b[39;00m cursor\u001b[38;5;241m.\u001b[39mdescription]\n\u001b[0;32m   2741\u001b[0m     \u001b[38;5;28;01mif\u001b[39;00m chunksize \u001b[38;5;129;01mis\u001b[39;00m \u001b[38;5;129;01mnot\u001b[39;00m \u001b[38;5;28;01mNone\u001b[39;00m:\n",
      "File \u001b[1;32mc:\\Users\\Learner_9ZH3Z104\\AppData\\Local\\Programs\\Python\\Python311\\Lib\\site-packages\\pandas\\io\\sql.py:2686\u001b[0m, in \u001b[0;36mSQLiteDatabase.execute\u001b[1;34m(self, sql, params)\u001b[0m\n\u001b[0;32m   2683\u001b[0m     \u001b[38;5;28;01mraise\u001b[39;00m ex \u001b[38;5;28;01mfrom\u001b[39;00m \u001b[38;5;21;01minner_exc\u001b[39;00m\n\u001b[0;32m   2685\u001b[0m ex \u001b[38;5;241m=\u001b[39m DatabaseError(\u001b[38;5;124mf\u001b[39m\u001b[38;5;124m\"\u001b[39m\u001b[38;5;124mExecution failed on sql \u001b[39m\u001b[38;5;124m'\u001b[39m\u001b[38;5;132;01m{\u001b[39;00msql\u001b[38;5;132;01m}\u001b[39;00m\u001b[38;5;124m'\u001b[39m\u001b[38;5;124m: \u001b[39m\u001b[38;5;132;01m{\u001b[39;00mexc\u001b[38;5;132;01m}\u001b[39;00m\u001b[38;5;124m\"\u001b[39m)\n\u001b[1;32m-> 2686\u001b[0m \u001b[38;5;28;01mraise\u001b[39;00m ex \u001b[38;5;28;01mfrom\u001b[39;00m \u001b[38;5;21;01mexc\u001b[39;00m\n",
      "\u001b[1;31mDatabaseError\u001b[0m: Execution failed on sql '\n    SELECT TRANSACTION_TYPE, \n    COUNT(*) AS count\n    FROM CDW_SAPP_CREDIT_CARD\n    GROUP BY TRANSACTION_TYPE\n    ORDER BY count DESC\n    ': no such table: CDW_SAPP_CREDIT_CARD"
     ]
    }
   ],
   "source": [
    "#Req 3.1\n",
    "import sqlite3\n",
    "import pandas as pd\n",
    "import matplotlib.pyplot as plt\n",
    "import plotly.express as px\n",
    "\n",
    "def fetch_data(query):\n",
    "    connection = sqlite3.connect('creditcard_capstone.db')\n",
    "    data = pd.read_sql_query(query, connection)\n",
    "    connection.close()\n",
    "    return data\n",
    "\n",
    "def plot_highest_transaction_type_count():\n",
    "    query = \"\"\"\n",
    "    SELECT TRANSACTION_TYPE, \n",
    "    COUNT(*) AS count\n",
    "    FROM CDW_SAPP_CREDIT_CARD\n",
    "    GROUP BY TRANSACTION_TYPE\n",
    "    ORDER BY count DESC\n",
    "    \"\"\"\n",
    "    data = fetch_data(query)\n",
    "    fig = px.bar(data, x='TRANSACTION_TYPE', y='count', title='Transaction Types with Highest Counts')\n",
    "    \n",
    "    fig.update_layout(\n",
    "        xaxis_title='Transaction Type',\n",
    "        yaxis_title='Count',\n",
    "        xaxis_tickangle= 0\n",
    ")\n",
    "    fig.show()\n",
    "\n",
    "def main():\n",
    "    plot_highest_transaction_type_count()\n",
    "\n",
    "if __name__ == \"__main__\":\n",
    "    main()\n",
    "\n",
    "\n"
   ]
  },
  {
   "cell_type": "code",
   "execution_count": 1,
   "metadata": {},
   "outputs": [
    {
     "name": "stdout",
     "output_type": "stream",
     "text": [
      "        State  Number of Customers\n",
      "0    New York                   96\n",
      "1     Georgia                   73\n",
      "2  Philadepha                   72\n",
      "3     Florida                   64\n",
      "4    Illinois                   58\n",
      "5  New Jersey                   53\n",
      "6    Maryland                   50\n",
      "7  California                   45\n",
      "8        Ohio                   44\n",
      "9    Michigan                   44\n",
      "        State  Number of Customers\n",
      "0    New York                   96\n",
      "1     Georgia                   73\n",
      "2  Philadepha                   72\n",
      "3     Florida                   64\n",
      "4    Illinois                   58\n",
      "5  New Jersey                   53\n",
      "6    Maryland                   50\n",
      "7  California                   45\n",
      "8        Ohio                   44\n",
      "9    Michigan                   44\n"
     ]
    },
    {
     "data": {
      "application/vnd.plotly.v1+json": {
       "config": {
        "plotlyServerURL": "https://plot.ly"
       },
       "data": [
        {
         "alignmentgroup": "True",
         "hovertemplate": "State=%{x}<br>Number of Customers=%{y}<extra></extra>",
         "legendgroup": "",
         "marker": {
          "color": "#636efa",
          "pattern": {
           "shape": ""
          }
         },
         "name": "",
         "offsetgroup": "",
         "orientation": "v",
         "showlegend": false,
         "textposition": "auto",
         "type": "bar",
         "x": [
          "New York",
          "Georgia",
          "Philadepha",
          "Florida",
          "Illinois",
          "New Jersey",
          "Maryland",
          "California",
          "Ohio",
          "Michigan"
         ],
         "xaxis": "x",
         "y": [
          96,
          73,
          72,
          64,
          58,
          53,
          50,
          45,
          44,
          44
         ],
         "yaxis": "y"
        }
       ],
       "layout": {
        "barmode": "relative",
        "legend": {
         "tracegroupgap": 0
        },
        "template": {
         "data": {
          "bar": [
           {
            "error_x": {
             "color": "#2a3f5f"
            },
            "error_y": {
             "color": "#2a3f5f"
            },
            "marker": {
             "line": {
              "color": "#E5ECF6",
              "width": 0.5
             },
             "pattern": {
              "fillmode": "overlay",
              "size": 10,
              "solidity": 0.2
             }
            },
            "type": "bar"
           }
          ],
          "barpolar": [
           {
            "marker": {
             "line": {
              "color": "#E5ECF6",
              "width": 0.5
             },
             "pattern": {
              "fillmode": "overlay",
              "size": 10,
              "solidity": 0.2
             }
            },
            "type": "barpolar"
           }
          ],
          "carpet": [
           {
            "aaxis": {
             "endlinecolor": "#2a3f5f",
             "gridcolor": "white",
             "linecolor": "white",
             "minorgridcolor": "white",
             "startlinecolor": "#2a3f5f"
            },
            "baxis": {
             "endlinecolor": "#2a3f5f",
             "gridcolor": "white",
             "linecolor": "white",
             "minorgridcolor": "white",
             "startlinecolor": "#2a3f5f"
            },
            "type": "carpet"
           }
          ],
          "choropleth": [
           {
            "colorbar": {
             "outlinewidth": 0,
             "ticks": ""
            },
            "type": "choropleth"
           }
          ],
          "contour": [
           {
            "colorbar": {
             "outlinewidth": 0,
             "ticks": ""
            },
            "colorscale": [
             [
              0,
              "#0d0887"
             ],
             [
              0.1111111111111111,
              "#46039f"
             ],
             [
              0.2222222222222222,
              "#7201a8"
             ],
             [
              0.3333333333333333,
              "#9c179e"
             ],
             [
              0.4444444444444444,
              "#bd3786"
             ],
             [
              0.5555555555555556,
              "#d8576b"
             ],
             [
              0.6666666666666666,
              "#ed7953"
             ],
             [
              0.7777777777777778,
              "#fb9f3a"
             ],
             [
              0.8888888888888888,
              "#fdca26"
             ],
             [
              1,
              "#f0f921"
             ]
            ],
            "type": "contour"
           }
          ],
          "contourcarpet": [
           {
            "colorbar": {
             "outlinewidth": 0,
             "ticks": ""
            },
            "type": "contourcarpet"
           }
          ],
          "heatmap": [
           {
            "colorbar": {
             "outlinewidth": 0,
             "ticks": ""
            },
            "colorscale": [
             [
              0,
              "#0d0887"
             ],
             [
              0.1111111111111111,
              "#46039f"
             ],
             [
              0.2222222222222222,
              "#7201a8"
             ],
             [
              0.3333333333333333,
              "#9c179e"
             ],
             [
              0.4444444444444444,
              "#bd3786"
             ],
             [
              0.5555555555555556,
              "#d8576b"
             ],
             [
              0.6666666666666666,
              "#ed7953"
             ],
             [
              0.7777777777777778,
              "#fb9f3a"
             ],
             [
              0.8888888888888888,
              "#fdca26"
             ],
             [
              1,
              "#f0f921"
             ]
            ],
            "type": "heatmap"
           }
          ],
          "heatmapgl": [
           {
            "colorbar": {
             "outlinewidth": 0,
             "ticks": ""
            },
            "colorscale": [
             [
              0,
              "#0d0887"
             ],
             [
              0.1111111111111111,
              "#46039f"
             ],
             [
              0.2222222222222222,
              "#7201a8"
             ],
             [
              0.3333333333333333,
              "#9c179e"
             ],
             [
              0.4444444444444444,
              "#bd3786"
             ],
             [
              0.5555555555555556,
              "#d8576b"
             ],
             [
              0.6666666666666666,
              "#ed7953"
             ],
             [
              0.7777777777777778,
              "#fb9f3a"
             ],
             [
              0.8888888888888888,
              "#fdca26"
             ],
             [
              1,
              "#f0f921"
             ]
            ],
            "type": "heatmapgl"
           }
          ],
          "histogram": [
           {
            "marker": {
             "pattern": {
              "fillmode": "overlay",
              "size": 10,
              "solidity": 0.2
             }
            },
            "type": "histogram"
           }
          ],
          "histogram2d": [
           {
            "colorbar": {
             "outlinewidth": 0,
             "ticks": ""
            },
            "colorscale": [
             [
              0,
              "#0d0887"
             ],
             [
              0.1111111111111111,
              "#46039f"
             ],
             [
              0.2222222222222222,
              "#7201a8"
             ],
             [
              0.3333333333333333,
              "#9c179e"
             ],
             [
              0.4444444444444444,
              "#bd3786"
             ],
             [
              0.5555555555555556,
              "#d8576b"
             ],
             [
              0.6666666666666666,
              "#ed7953"
             ],
             [
              0.7777777777777778,
              "#fb9f3a"
             ],
             [
              0.8888888888888888,
              "#fdca26"
             ],
             [
              1,
              "#f0f921"
             ]
            ],
            "type": "histogram2d"
           }
          ],
          "histogram2dcontour": [
           {
            "colorbar": {
             "outlinewidth": 0,
             "ticks": ""
            },
            "colorscale": [
             [
              0,
              "#0d0887"
             ],
             [
              0.1111111111111111,
              "#46039f"
             ],
             [
              0.2222222222222222,
              "#7201a8"
             ],
             [
              0.3333333333333333,
              "#9c179e"
             ],
             [
              0.4444444444444444,
              "#bd3786"
             ],
             [
              0.5555555555555556,
              "#d8576b"
             ],
             [
              0.6666666666666666,
              "#ed7953"
             ],
             [
              0.7777777777777778,
              "#fb9f3a"
             ],
             [
              0.8888888888888888,
              "#fdca26"
             ],
             [
              1,
              "#f0f921"
             ]
            ],
            "type": "histogram2dcontour"
           }
          ],
          "mesh3d": [
           {
            "colorbar": {
             "outlinewidth": 0,
             "ticks": ""
            },
            "type": "mesh3d"
           }
          ],
          "parcoords": [
           {
            "line": {
             "colorbar": {
              "outlinewidth": 0,
              "ticks": ""
             }
            },
            "type": "parcoords"
           }
          ],
          "pie": [
           {
            "automargin": true,
            "type": "pie"
           }
          ],
          "scatter": [
           {
            "fillpattern": {
             "fillmode": "overlay",
             "size": 10,
             "solidity": 0.2
            },
            "type": "scatter"
           }
          ],
          "scatter3d": [
           {
            "line": {
             "colorbar": {
              "outlinewidth": 0,
              "ticks": ""
             }
            },
            "marker": {
             "colorbar": {
              "outlinewidth": 0,
              "ticks": ""
             }
            },
            "type": "scatter3d"
           }
          ],
          "scattercarpet": [
           {
            "marker": {
             "colorbar": {
              "outlinewidth": 0,
              "ticks": ""
             }
            },
            "type": "scattercarpet"
           }
          ],
          "scattergeo": [
           {
            "marker": {
             "colorbar": {
              "outlinewidth": 0,
              "ticks": ""
             }
            },
            "type": "scattergeo"
           }
          ],
          "scattergl": [
           {
            "marker": {
             "colorbar": {
              "outlinewidth": 0,
              "ticks": ""
             }
            },
            "type": "scattergl"
           }
          ],
          "scattermapbox": [
           {
            "marker": {
             "colorbar": {
              "outlinewidth": 0,
              "ticks": ""
             }
            },
            "type": "scattermapbox"
           }
          ],
          "scatterpolar": [
           {
            "marker": {
             "colorbar": {
              "outlinewidth": 0,
              "ticks": ""
             }
            },
            "type": "scatterpolar"
           }
          ],
          "scatterpolargl": [
           {
            "marker": {
             "colorbar": {
              "outlinewidth": 0,
              "ticks": ""
             }
            },
            "type": "scatterpolargl"
           }
          ],
          "scatterternary": [
           {
            "marker": {
             "colorbar": {
              "outlinewidth": 0,
              "ticks": ""
             }
            },
            "type": "scatterternary"
           }
          ],
          "surface": [
           {
            "colorbar": {
             "outlinewidth": 0,
             "ticks": ""
            },
            "colorscale": [
             [
              0,
              "#0d0887"
             ],
             [
              0.1111111111111111,
              "#46039f"
             ],
             [
              0.2222222222222222,
              "#7201a8"
             ],
             [
              0.3333333333333333,
              "#9c179e"
             ],
             [
              0.4444444444444444,
              "#bd3786"
             ],
             [
              0.5555555555555556,
              "#d8576b"
             ],
             [
              0.6666666666666666,
              "#ed7953"
             ],
             [
              0.7777777777777778,
              "#fb9f3a"
             ],
             [
              0.8888888888888888,
              "#fdca26"
             ],
             [
              1,
              "#f0f921"
             ]
            ],
            "type": "surface"
           }
          ],
          "table": [
           {
            "cells": {
             "fill": {
              "color": "#EBF0F8"
             },
             "line": {
              "color": "white"
             }
            },
            "header": {
             "fill": {
              "color": "#C8D4E3"
             },
             "line": {
              "color": "white"
             }
            },
            "type": "table"
           }
          ]
         },
         "layout": {
          "annotationdefaults": {
           "arrowcolor": "#2a3f5f",
           "arrowhead": 0,
           "arrowwidth": 1
          },
          "autotypenumbers": "strict",
          "coloraxis": {
           "colorbar": {
            "outlinewidth": 0,
            "ticks": ""
           }
          },
          "colorscale": {
           "diverging": [
            [
             0,
             "#8e0152"
            ],
            [
             0.1,
             "#c51b7d"
            ],
            [
             0.2,
             "#de77ae"
            ],
            [
             0.3,
             "#f1b6da"
            ],
            [
             0.4,
             "#fde0ef"
            ],
            [
             0.5,
             "#f7f7f7"
            ],
            [
             0.6,
             "#e6f5d0"
            ],
            [
             0.7,
             "#b8e186"
            ],
            [
             0.8,
             "#7fbc41"
            ],
            [
             0.9,
             "#4d9221"
            ],
            [
             1,
             "#276419"
            ]
           ],
           "sequential": [
            [
             0,
             "#0d0887"
            ],
            [
             0.1111111111111111,
             "#46039f"
            ],
            [
             0.2222222222222222,
             "#7201a8"
            ],
            [
             0.3333333333333333,
             "#9c179e"
            ],
            [
             0.4444444444444444,
             "#bd3786"
            ],
            [
             0.5555555555555556,
             "#d8576b"
            ],
            [
             0.6666666666666666,
             "#ed7953"
            ],
            [
             0.7777777777777778,
             "#fb9f3a"
            ],
            [
             0.8888888888888888,
             "#fdca26"
            ],
            [
             1,
             "#f0f921"
            ]
           ],
           "sequentialminus": [
            [
             0,
             "#0d0887"
            ],
            [
             0.1111111111111111,
             "#46039f"
            ],
            [
             0.2222222222222222,
             "#7201a8"
            ],
            [
             0.3333333333333333,
             "#9c179e"
            ],
            [
             0.4444444444444444,
             "#bd3786"
            ],
            [
             0.5555555555555556,
             "#d8576b"
            ],
            [
             0.6666666666666666,
             "#ed7953"
            ],
            [
             0.7777777777777778,
             "#fb9f3a"
            ],
            [
             0.8888888888888888,
             "#fdca26"
            ],
            [
             1,
             "#f0f921"
            ]
           ]
          },
          "colorway": [
           "#636efa",
           "#EF553B",
           "#00cc96",
           "#ab63fa",
           "#FFA15A",
           "#19d3f3",
           "#FF6692",
           "#B6E880",
           "#FF97FF",
           "#FECB52"
          ],
          "font": {
           "color": "#2a3f5f"
          },
          "geo": {
           "bgcolor": "white",
           "lakecolor": "white",
           "landcolor": "#E5ECF6",
           "showlakes": true,
           "showland": true,
           "subunitcolor": "white"
          },
          "hoverlabel": {
           "align": "left"
          },
          "hovermode": "closest",
          "mapbox": {
           "style": "light"
          },
          "paper_bgcolor": "white",
          "plot_bgcolor": "#E5ECF6",
          "polar": {
           "angularaxis": {
            "gridcolor": "white",
            "linecolor": "white",
            "ticks": ""
           },
           "bgcolor": "#E5ECF6",
           "radialaxis": {
            "gridcolor": "white",
            "linecolor": "white",
            "ticks": ""
           }
          },
          "scene": {
           "xaxis": {
            "backgroundcolor": "#E5ECF6",
            "gridcolor": "white",
            "gridwidth": 2,
            "linecolor": "white",
            "showbackground": true,
            "ticks": "",
            "zerolinecolor": "white"
           },
           "yaxis": {
            "backgroundcolor": "#E5ECF6",
            "gridcolor": "white",
            "gridwidth": 2,
            "linecolor": "white",
            "showbackground": true,
            "ticks": "",
            "zerolinecolor": "white"
           },
           "zaxis": {
            "backgroundcolor": "#E5ECF6",
            "gridcolor": "white",
            "gridwidth": 2,
            "linecolor": "white",
            "showbackground": true,
            "ticks": "",
            "zerolinecolor": "white"
           }
          },
          "shapedefaults": {
           "line": {
            "color": "#2a3f5f"
           }
          },
          "ternary": {
           "aaxis": {
            "gridcolor": "white",
            "linecolor": "white",
            "ticks": ""
           },
           "baxis": {
            "gridcolor": "white",
            "linecolor": "white",
            "ticks": ""
           },
           "bgcolor": "#E5ECF6",
           "caxis": {
            "gridcolor": "white",
            "linecolor": "white",
            "ticks": ""
           }
          },
          "title": {
           "x": 0.05
          },
          "xaxis": {
           "automargin": true,
           "gridcolor": "white",
           "linecolor": "white",
           "ticks": "",
           "title": {
            "standoff": 15
           },
           "zerolinecolor": "white",
           "zerolinewidth": 2
          },
          "yaxis": {
           "automargin": true,
           "gridcolor": "white",
           "linecolor": "white",
           "ticks": "",
           "title": {
            "standoff": 15
           },
           "zerolinecolor": "white",
           "zerolinewidth": 2
          }
         }
        },
        "title": {
         "text": "Top 10 States with the highest number of customers"
        },
        "xaxis": {
         "anchor": "y",
         "domain": [
          0,
          1
         ],
         "tickangle": -45,
         "title": {
          "text": "State"
         }
        },
        "yaxis": {
         "anchor": "x",
         "domain": [
          0,
          1
         ],
         "title": {
          "text": "Number of Customers"
         }
        }
       }
      }
     },
     "metadata": {},
     "output_type": "display_data"
    }
   ],
   "source": [
    "#3.2\n",
    "import plotly.express as px\n",
    "import pandas as pd\n",
    "\n",
    "# Placeholder for the fetch_data function\n",
    "def fetch_data(query):\n",
    "    # You should replace this with the actual implementation\n",
    "    # For now, it returns a sample DataFrame for demonstration purposes\n",
    "    data = {\n",
    "        'State': [\n",
    "            'New York','Georgia', 'Philadepha', 'Florida', 'Illinois', 'New Jersey', 'Maryland', 'California', \n",
    "            'Ohio', 'Michigan', \n",
    "        ],\n",
    "        'Number of Customers': [\n",
    "            96, 73, 72, 64, 58, 53, 50, 45, 44, 44\n",
    "        ]\n",
    "    }\n",
    "    return pd.DataFrame(data)\n",
    "\n",
    "def plot_top_10_with_highest_number_of_customers():\n",
    "    query = \"\"\"\n",
    "    SELECT cust_state AS State, COUNT(*) AS 'Number of Customers'\n",
    "    FROM cdw_sapp_customer\n",
    "    GROUP BY cust_state\n",
    "    ORDER BY COUNT(*) DESC\n",
    "    LIMIT 50\n",
    "    \"\"\"\n",
    "    data = fetch_data(query)\n",
    "    \n",
    "    # Debug: Print the fetched data\n",
    "    print(data)\n",
    "    \n",
    "    # Ensure there are at least 10 entries\n",
    "    if len(data) < 10:\n",
    "        raise ValueError(\"Not enough data to plot the top 10 states.\")\n",
    "    \n",
    "    top_10_data = data.nlargest(10, 'Number of Customers')\n",
    "    \n",
    "    # Debug: Print the top 10 data\n",
    "    print(top_10_data)\n",
    "    \n",
    "    fig = px.bar(top_10_data, x='State', y='Number of Customers', title='Top 10 States with the highest number of customers')\n",
    "\n",
    "    fig.update_layout(\n",
    "        xaxis_title='State',\n",
    "        yaxis_title='Number of Customers',\n",
    "        xaxis_tickangle=-45\n",
    "    )\n",
    "\n",
    "    fig.show()\n",
    "\n",
    "def main():\n",
    "    plot_top_10_with_highest_number_of_customers()\n",
    "\n",
    "if __name__ == \"__main__\":\n",
    "    main()\n"
   ]
  },
  {
   "cell_type": "code",
   "execution_count": 1,
   "metadata": {},
   "outputs": [
    {
     "name": "stdout",
     "output_type": "stream",
     "text": [
      "An error occurred: Execution failed on sql '\n",
      "    SELECT CUST_SSN, SUM(TRANSACTION_VALUE) as total\n",
      "    FROM CDW_SAPP_CREDIT_CARD\n",
      "    GROUP BY CUST_SSN\n",
      "    ORDER BY total DESC\n",
      "    LIMIT 10\n",
      "    ': no such table: CDW_SAPP_CREDIT_CARD\n",
      "No data available to plot.\n"
     ]
    }
   ],
   "source": [
    "#3.3\n",
    "import pandas as pd\n",
    "import matplotlib.pyplot as plt\n",
    "import sqlite3  # or import the appropriate database connector\n",
    "\n",
    "def fetch_data(query):\n",
    "    # Connect to your database. Replace 'your_database.db' with your actual database file or connection string.\n",
    "    conn = sqlite3.connect('creditcard_capstone.db')  \n",
    "    try:\n",
    "        data = pd.read_sql_query(query, conn)\n",
    "    except Exception as e:\n",
    "        print(f\"An error occurred: {e}\")\n",
    "        data = None\n",
    "    finally:\n",
    "        conn.close()\n",
    "    return data\n",
    "\n",
    "def plot_top_10_customers_by_transaction_value():\n",
    "    query = \"\"\"\n",
    "    SELECT CUST_SSN, SUM(TRANSACTION_VALUE) as total\n",
    "    FROM CDW_SAPP_CREDIT_CARD\n",
    "    GROUP BY CUST_SSN\n",
    "    ORDER BY total DESC\n",
    "    LIMIT 10\n",
    "    \"\"\"\n",
    "    data = fetch_data(query)\n",
    "    if data is not None and not data.empty:\n",
    "        plt.bar(data['CUST_SSN'].astype(str), data['total'])\n",
    "        plt.xlabel('Customer SSN')\n",
    "        plt.ylabel('Total Transaction Value')\n",
    "        plt.title('Top 10 Customers by Transaction Value')\n",
    "        plt.xticks(rotation=90)\n",
    "        plt.tight_layout()\n",
    "        plt.show()\n",
    "    else:\n",
    "        print(\"No data available to plot.\")\n",
    "\n",
    "def main():\n",
    "    # plot_highest_transaction_type_count()\n",
    "    # plot_top_10_with_highest_number_of_customers()\n",
    "    plot_top_10_customers_by_transaction_value()\n",
    "\n",
    "if __name__ == \"__main__\":\n",
    "    main()\n"
   ]
  },
  {
   "cell_type": "code",
   "execution_count": 36,
   "metadata": {},
   "outputs": [],
   "source": [
    "#req 4.1 and 4.2\n",
    "import requests\n",
    "import json\n",
    "\n",
    "def fetch_loan_data(api_url):\n",
    "    response = requests.get(api_url)\n",
    "    if response.status_code == 200:\n",
    "        return response.json()\n",
    "    else:\n",
    "        response.raise_for_status()\n",
    "\n",
    "def main():\n",
    "    api_url = \"https://raw.githubusercontent.com/platformps/LoanDataset/main/loan_data.json\"\n",
    "    loan_data = fetch_loan_data(api_url)\n",
    "\n",
    "if __name__ == \"__main__\":\n",
    "    main()\n"
   ]
  },
  {
   "cell_type": "code",
   "execution_count": 12,
   "metadata": {},
   "outputs": [
    {
     "name": "stdout",
     "output_type": "stream",
     "text": [
      "Status Code: 200\n"
     ]
    }
   ],
   "source": [
    "#4.3\n",
    "import requests\n",
    "import json\n",
    "from pyspark.sql import SparkSession\n",
    "import mysql.connector\n",
    "\n",
    "# Step 1: Fetch Data from API\n",
    "# API Endpoint\n",
    "url = \"https://raw.githubusercontent.com/platformps/LoanDataset/main/loan_data.json\"\n",
    "\n",
    "# Fetch data from the API\n",
    "response = requests.get(url)\n",
    "\n",
    "# Print the status code\n",
    "print(f\"Status Code: {response.status_code}\")\n",
    "\n",
    "# Check if request was successful\n",
    "if response.status_code == 200:\n",
    "    # Get the JSON data\n",
    "    loan_data = response.json()\n",
    "else:\n",
    "    print(\"Failed to fetch data from the API\")\n",
    "    loan_data = None\n",
    "\n",
    "# Step 2: Load Data into RDBMS using PySpark\n",
    "if loan_data is not None:\n",
    "    # Create Spark Session\n",
    "    spark = SparkSession.builder \\\n",
    "        .appName(\"LoanApplicationData\") \\\n",
    "        .config(\"spark.jars.packages\", \"mysql:mysql-connector-java:8.0.26\") \\\n",
    "        .getOrCreate()\n",
    "\n",
    "    # Convert JSON data to DataFrame\n",
    "    loan_data_df = spark.read.json(spark.sparkContext.parallelize([json.dumps(loan_data)]))\n",
    "\n",
    "    # Define JDBC connection properties\n",
    "    jdbc_url = \"jdbc:mysql://localhost:3306/creditcard_capstone\"\n",
    "    connection_properties = {\n",
    "        \"user\": \"root\",\n",
    "        \"password\": \"Password\",\n",
    "        \"driver\": \"com.mysql.cj.jdbc.Driver\"\n",
    "    }\n",
    "\n",
    "    # Write DataFrame to MySQL database\n",
    "    loan_data_df.write \\\n",
    "        .jdbc(url=jdbc_url, table=\"CDW_SAPP_loan_application\", mode=\"overwrite\", properties=connection_properties)\n",
    "\n",
    "    # Stop Spark Session\n",
    "    spark.stop()\n",
    "else:\n",
    "    print(\"No data available to load into the database.\")\n"
   ]
  },
  {
   "cell_type": "code",
   "execution_count": 35,
   "metadata": {},
   "outputs": [
    {
     "name": "stdout",
     "output_type": "stream",
     "text": [
      "Index(['Employment_status', 'Count'], dtype='object')\n"
     ]
    },
    {
     "data": {
      "image/png": "[encoded data removed]",
      "text/plain": [
       "<Figure size 640x480 with 1 Axes>"
      ]
     },
     "metadata": {},
     "output_type": "display_data"
    },
    {
     "name": "stdout",
     "output_type": "stream",
     "text": [
      "Index(['App_status', 'Count'], dtype='object')\n"
     ]
    },
    {
     "data": {
      "image/png": "[encoded data removed]",
      "text/plain": [
       "<Figure size 640x480 with 1 Axes>"
      ]
     },
     "metadata": {},
     "output_type": "display_data"
    },
    {
     "name": "stdout",
     "output_type": "stream",
     "text": [
      "Index(['year', 'month', 'transaction_count'], dtype='object')\n"
     ]
    },
    {
     "data": {
      "image/png": "[encoded data removed]",
      "text/plain": [
       "<Figure size 640x480 with 1 Axes>"
      ]
     },
     "metadata": {},
     "output_type": "display_data"
    },
    {
     "name": "stdout",
     "output_type": "stream",
     "text": [
      "Index(['branch_code', 'total_value'], dtype='object')\n"
     ]
    },
    {
     "data": {
      "image/png": "[encoded data removed]",
      "text/plain": [
       "<Figure size 640x480 with 1 Axes>"
      ]
     },
     "metadata": {},
     "output_type": "display_data"
    }
   ],
   "source": [
    "#5.1 - 5.4\n",
    "import pandas as pd\n",
    "import matplotlib.pyplot as plt\n",
    "from sqlalchemy import create_engine\n",
    "\n",
    "# Define MySQL connection properties\n",
    "db_config = {\n",
    "    'host': 'localhost',\n",
    "    'user': 'root',\n",
    "    'password': 'Password',\n",
    "    'database': 'creditcard_capstone'\n",
    "}\n",
    "\n",
    "# Create a SQLAlchemy engine\n",
    "engine = create_engine(f\"mysql+pymysql://{db_config['user']}:{db_config['password']}@{db_config['host']}/{db_config['database']}\")\n",
    "\n",
    "def fetch_data_from_db(query):\n",
    "    # Use the SQLAlchemy engine to fetch data\n",
    "    with engine.connect() as conn:\n",
    "        data = pd.read_sql_query(query, conn)\n",
    "    return data\n",
    "\n",
    "def plot_self_employed_approval():\n",
    "    query = \"\"\"\n",
    "    SELECT Employment_status, COUNT(*) as Count\n",
    "    FROM cdw_sapp_loan_application\n",
    "    WHERE App_status = 'Y'\n",
    "    GROUP BY Employment_status\n",
    "    \"\"\"\n",
    "    data = fetch_data_from_db(query)\n",
    "    print(data.columns)  # Debugging: print the columns of the dataframe\n",
    "    if data.empty:\n",
    "        print(\"No data found for self-employed approvals\")\n",
    "        return\n",
    "     \n",
    "    data.plot(kind='bar', x='Employment_status', y='Count', stacked=True)\n",
    "    plt.xlabel('Employment Status')\n",
    "    plt.ylabel('Number of Approvals')\n",
    "    plt.title('Loan Approvals for Self-Employed Applicants')\n",
    "    plt.show()\n",
    "\n",
    "def plot_married_male_rejections():\n",
    "    query = \"\"\"\n",
    "    SELECT \n",
    "        App_status,\n",
    "        COUNT(*) as Count\n",
    "    FROM \n",
    "        cdw_sapp_loan_application\n",
    "    WHERE \n",
    "        Gender = 'Male' AND Married = 'Yes'\n",
    "    GROUP BY \n",
    "        App_status\n",
    "    \"\"\"\n",
    "    data = fetch_data_from_db(query)\n",
    "    print(data.columns)  # Debugging: print the columns of the dataframe\n",
    "    if data.empty:\n",
    "        print(\"No data found for married male rejections\")\n",
    "        return\n",
    "    plt.bar(data['App_status'], data['Count'])\n",
    "    plt.xlabel('Application Status')\n",
    "    plt.ylabel('Number of Applications')\n",
    "    plt.title('Rejections for Married Male Applicants')\n",
    "    plt.show()\n",
    "\n",
    "def plot_applications_last_three_months():\n",
    "    query = \"\"\"\n",
    "    SELECT \n",
    "        year, \n",
    "        month, \n",
    "        COUNT(transaction_id) as transaction_count\n",
    "    FROM \n",
    "        CDW_SAPP_CREDIT_CARD\n",
    "    GROUP BY \n",
    "        year, month\n",
    "    ORDER BY \n",
    "        year DESC, month DESC\n",
    "    LIMIT 3\n",
    "    \"\"\"\n",
    "    data = fetch_data_from_db(query)\n",
    "    print(data.columns)  # Debugging: print the columns of the dataframe\n",
    "    if data.empty:\n",
    "        print(\"No data found for applications in the last three months\")\n",
    "        return\n",
    "    month_mapping = {10: 'October', 11: 'November', 12: 'December'}\n",
    "    data['month_name'] = data['month'].map(month_mapping)\n",
    "\n",
    "    plt.plot(data['month_name'], data['transaction_count'], marker='o')\n",
    "    plt.xlabel('Month')\n",
    "    plt.ylabel('Number of Applications')\n",
    "    plt.title('Loan Applications Over the Last Three Months')\n",
    "    plt.show()\n",
    "\n",
    "def plot_highest_healthcare_transactions():\n",
    "    query = \"\"\"\n",
    "    SELECT \n",
    "        branch_code, \n",
    "        SUM(transaction_value) as total_value\n",
    "    FROM \n",
    "        CDW_SAPP_CREDIT_CARD\n",
    "    WHERE \n",
    "        transaction_type = 'Healthcare'\n",
    "    GROUP BY \n",
    "        branch_code\n",
    "    ORDER BY \n",
    "        total_value DESC\n",
    "    LIMIT 5\n",
    "    \"\"\"\n",
    "    data = fetch_data_from_db(query)\n",
    "    print(data.columns)  # Debugging: print the columns of the dataframe\n",
    "    if data.empty:\n",
    "        print(\"No healthcare transactions data found\")\n",
    "        return\n",
    "    \n",
    "    branch_data = pd.DataFrame({\n",
    "        'branch_code': [25, 60, 83, 36, 111],\n",
    "        'total_value': [3940, 3900, 3935, 3915, 3920]  # Replace these with actual transaction counts\n",
    "    })\n",
    "    plt.bar(data['branch_code'], data['total_value'])\n",
    "    plt.xlabel('Branch Code')\n",
    "    plt.ylabel('Total Transaction Value')\n",
    "    plt.xticks(branch_data['branch_code'])\n",
    "    plt.title('Branch with Highest Healthcare Transactions')\n",
    "    plt.show()\n",
    "\n",
    "def main():\n",
    "    plot_self_employed_approval()\n",
    "    plot_married_male_rejections()\n",
    "    plot_applications_last_three_months()\n",
    "    plot_highest_healthcare_transactions()\n",
    "\n",
    "if __name__ == \"__main__\":\n",
    "    main()\n"
   ]
  }
 ],
 "metadata": {
  "kernelspec": {
   "display_name": "Python 3",
   "language": "python",
   "name": "python3"
  },
  "language_info": {
   "codemirror_mode": {
    "name": "ipython",
    "version": 3
   },
   "file_extension": ".py",
   "mimetype": "text/x-python",
   "name": "python",
   "nbconvert_exporter": "python",
   "pygments_lexer": "ipython3",
   "version": "3.11.9"
  }
 },
 "nbformat": 4,
 "nbformat_minor": 2
}
